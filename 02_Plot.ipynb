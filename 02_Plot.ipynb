{
 "cells": [
  {
   "cell_type": "code",
   "execution_count": null,
   "metadata": {
    "gather": {
     "logged": 1651480791067
    }
   },
   "outputs": [],
   "source": [
    "import pandas as pd\n",
    "import plotnine as p9\n",
    "import yaml"
   ]
  },
  {
   "cell_type": "code",
   "execution_count": null,
   "metadata": {
    "gather": {
     "logged": 1651480792190
    },
    "jupyter": {
     "outputs_hidden": false,
     "source_hidden": false
    },
    "nteract": {
     "transient": {
      "deleting": false
     }
    }
   },
   "outputs": [],
   "source": [
    "COLOR_SCALE = [\"#00577B\", \"#24A899\"]"
   ]
  },
  {
   "cell_type": "code",
   "execution_count": null,
   "metadata": {
    "gather": {
     "logged": 1651480792860
    },
    "jupyter": {
     "outputs_hidden": false,
     "source_hidden": false
    },
    "nteract": {
     "transient": {
      "deleting": false
     }
    }
   },
   "outputs": [],
   "source": [
    "with open(\"data/portfolios.yml\", \"r\") as fp:\n",
    "    portfolios = yaml.load(fp, Loader=yaml.SafeLoader)\n",
    "portfolios"
   ]
  },
  {
   "cell_type": "code",
   "execution_count": null,
   "metadata": {
    "gather": {
     "logged": 1651480793243
    },
    "jupyter": {
     "outputs_hidden": false,
     "source_hidden": false
    },
    "nteract": {
     "transient": {
      "deleting": false
     }
    }
   },
   "outputs": [],
   "source": [
    "data = []\n",
    "\n",
    "for portfolio in portfolios:\n",
    "    id = portfolio[\"name\"]\n",
    "    summary = pd.read_excel(f\"output/reports/{id}.xlsx\", sheet_name=\"Summary\", header=None)\n",
    "    df = pd.DataFrame([\n",
    "        dict(portfolio=id, profile=\"flat\", metric=\"CO2\", value=summary.iloc[0,1]),\n",
    "        dict(portfolio=id, profile=\"tracking\", metric=\"CO2\", value=summary.iloc[1,1]),\n",
    "        dict(portfolio=id, profile=\"flat\", metric=\"cost\", value=summary.iloc[4,1]),\n",
    "        dict(portfolio=id, profile=\"tracking\", metric=\"cost\", value=summary.iloc[5,1]),\n",
    "    ])\n",
    "    data.append(df)\n",
    "\n",
    "data = pd.concat(data, axis=0)"
   ]
  },
  {
   "cell_type": "code",
   "execution_count": null,
   "metadata": {
    "gather": {
     "logged": 1651480794805
    },
    "jupyter": {
     "outputs_hidden": false,
     "source_hidden": false
    },
    "nteract": {
     "transient": {
      "deleting": false
     }
    }
   },
   "outputs": [],
   "source": [
    "fig = (\n",
    "    p9.ggplot(p9.aes(x=\"portfolio\", fill=\"profile\", y=\"value\"), data.query(\"metric == 'CO2'\").assign(value=lambda df: df.value / 1000.0)) +\n",
    "    p9.geom_bar(stat=\"identity\", position=\"dodge\") +\n",
    "    p9.labs(y=\"Emission (kg CO2/MWh)\", title=\"Average CO2 emission factor\") +\n",
    "    p9.theme(\n",
    "        axis_title_x=p9.element_blank(),\n",
    "        figure_size=(7, 5)\n",
    "    ) +\n",
    "    p9.scale_fill_manual(values=COLOR_SCALE)\n",
    ")\n",
    "fig.save(\"output/plots/summary_barplot_co2.png\", dpi=150)"
   ]
  },
  {
   "cell_type": "code",
   "execution_count": null,
   "metadata": {
    "gather": {
     "logged": 1651480796154
    },
    "jupyter": {
     "outputs_hidden": false,
     "source_hidden": false
    },
    "nteract": {
     "transient": {
      "deleting": false
     }
    }
   },
   "outputs": [],
   "source": [
    "fig = (\n",
    "    p9.ggplot(p9.aes(x=\"portfolio\", fill=\"profile\", y=\"value\"), data.query(\"metric == 'cost'\")) +\n",
    "    p9.geom_bar(stat=\"identity\", position=\"dodge\") +\n",
    "    p9.labs(y=\"Cost (EUR/MWh)\", title=\"Average EPEX day-ahead price\") +\n",
    "    p9.theme(\n",
    "        axis_title_x=p9.element_blank(),\n",
    "        figure_size=(7, 5)\n",
    "    ) +\n",
    "    p9.scale_fill_manual(values=COLOR_SCALE)\n",
    ")\n",
    "fig.save(\"output/plots/summary_barplot_cost.png\", dpi=150)"
   ]
  },
  {
   "cell_type": "code",
   "execution_count": null,
   "metadata": {
    "gather": {
     "logged": 1651480802909
    },
    "jupyter": {
     "outputs_hidden": false,
     "source_hidden": false
    },
    "nteract": {
     "transient": {
      "deleting": false
     }
    }
   },
   "outputs": [],
   "source": [
    "for portfolio in portfolios:\n",
    "    id = portfolio[\"name\"]\n",
    "    df = pd.read_excel(f\"output/reports/{id}.xlsx\", sheet_name=\"Data\")\n",
    "    fig = (\n",
    "        p9.ggplot(p9.aes(x=\"profile\", y=\"co2\"), df) +\n",
    "        p9.geom_point() +\n",
    "        p9.geom_smooth(method=\"loess\", span=0.5, color=COLOR_SCALE[1]) +\n",
    "        p9.labs(x=\"Consumption (kWh)\", y=\"CO2 emission factor (kg/MWh)\", title=f\"Correlation of consumption and emission for portfolio {id}\") +\n",
    "        p9.theme(figure_size=(6, 5))\n",
    "    )\n",
    "    fig.save(f\"output/plots/correlation_co2_{id}.png\", dpi=200)"
   ]
  },
  {
   "cell_type": "code",
   "execution_count": null,
   "metadata": {
    "gather": {
     "logged": 1651480809338
    }
   },
   "outputs": [],
   "source": [
    "for portfolio in portfolios:\n",
    "    id = portfolio[\"name\"]\n",
    "    df = pd.read_excel(f\"output/reports/{id}.xlsx\", sheet_name=\"Data\")\n",
    "    fig = (\n",
    "        p9.ggplot(p9.aes(x=\"profile\", y=\"price\"), df) +\n",
    "        p9.geom_point() +\n",
    "        p9.geom_smooth(method=\"loess\", span=0.5, color=COLOR_SCALE[1]) +\n",
    "        p9.labs(x=\"Consumption (kWh)\", y=\"Price (EUR/kWh)\", title=f\"Correlation of consumption and spot price for portfolio {id}\") +\n",
    "        p9.theme(figure_size=(6, 5))\n",
    "    )\n",
    "    fig.save(f\"output/plots/correlation_price_{id}.png\", dpi=200)"
   ]
  }
 ],
 "metadata": {
  "interpreter": {
   "hash": "51e807ef1e3c1f544228ddb820ecdb3fbe24be5eb820cdf79173d8f0d6ec49ec"
  },
  "kernel_info": {
   "name": "python38-azureml"
  },
  "kernelspec": {
   "display_name": "Python 3.8 - AzureML",
   "language": "python",
   "name": "python3"
  },
  "language_info": {
   "codemirror_mode": {
    "name": "ipython",
    "version": 3
   },
   "file_extension": ".py",
   "mimetype": "text/x-python",
   "name": "python",
   "nbconvert_exporter": "python",
   "pygments_lexer": "ipython3",
   "version": "3.8.1"
  },
  "microsoft": {
   "host": {
    "AzureML": {
     "notebookHasBeenCompleted": true
    }
   }
  },
  "nteract": {
   "version": "nteract-front-end@1.0.0"
  }
 },
 "nbformat": 4,
 "nbformat_minor": 2
}
