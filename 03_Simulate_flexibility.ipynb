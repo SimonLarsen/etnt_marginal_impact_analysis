{
 "cells": [
  {
   "cell_type": "code",
   "execution_count": null,
   "metadata": {
    "gather": {
     "logged": 1655899524985
    },
    "jupyter": {
     "outputs_hidden": false,
     "source_hidden": false
    },
    "nteract": {
     "transient": {
      "deleting": false
     }
    }
   },
   "outputs": [],
   "source": [
    "import pandas as pd\n",
    "import pyomo.environ as pyo\n",
    "import numpy as np\n",
    "from collections import namedtuple\n",
    "import yaml\n",
    "from functools import reduce\n",
    "\n",
    "Parameters = namedtuple(\"Parameters\", [\"D\", \"M\", \"I\", \"A\", \"B\"])\n",
    "Result = namedtuple(\"Result\", [\"cons\", \"charge\", \"discharge\", \"fitness\"])"
   ]
  },
  {
   "cell_type": "code",
   "execution_count": null,
   "metadata": {
    "gather": {
     "logged": 1655899525498
    },
    "jupyter": {
     "outputs_hidden": false,
     "source_hidden": false
    },
    "nteract": {
     "transient": {
      "deleting": false
     }
    }
   },
   "outputs": [],
   "source": [
    "N = 24\n",
    "D = 1.0\n",
    "\n",
    "COST_TYPES = [\"co2\", \"price\"]\n",
    "AREAS = [\"DK1\", \"DK2\", \"DE\"]\n",
    "CAPACITIES = [0.0, 0.5, 1.0, 2.0]\n",
    "\n",
    "start_time = pd.Timestamp(\"2019-01-01 00:00\").tz_localize(\"Europe/Copenhagen\")\n",
    "end_time = pd.Timestamp(\"2020-01-01 00:00\").tz_localize(\"Europe/Copenhagen\")"
   ]
  },
  {
   "cell_type": "markdown",
   "metadata": {
    "nteract": {
     "transient": {
      "deleting": false
     }
    }
   },
   "source": [
    "## Parameters"
   ]
  },
  {
   "cell_type": "code",
   "execution_count": null,
   "metadata": {
    "gather": {
     "logged": 1655899525890
    },
    "jupyter": {
     "outputs_hidden": false,
     "source_hidden": false
    },
    "nteract": {
     "transient": {
      "deleting": false
     }
    }
   },
   "outputs": [],
   "source": [
    "def optimize_cost(costs, params, solver):\n",
    "    assert(len(costs) == N)\n",
    "\n",
    "    model = pyo.ConcreteModel()\n",
    "    model.x = pyo.Var(range(N), domain=pyo.NonNegativeReals)\n",
    "    model.y = pyo.Var(range(N), domain=pyo.NonNegativeReals)\n",
    "    model.z = pyo.Var(range(N), domain=pyo.NonNegativeReals)\n",
    "\n",
    "    model.objective = pyo.Objective(\n",
    "        expr=sum(costs[i] * (model.x[i] + model.y[i]) for i in range(N)),\n",
    "        sense=pyo.minimize\n",
    "    )\n",
    "\n",
    "    model.constraints = pyo.ConstraintList()\n",
    "\n",
    "    # Cover energy demand\n",
    "    for i in range(N):\n",
    "        model.constraints.add(model.x[i] + model.z[i] == params.D)\n",
    "\n",
    "    # Cap charge and discharge rates\n",
    "    for i in range(N):\n",
    "        model.constraints.add(model.y[i] <= params.A)\n",
    "        model.constraints.add(model.z[i] <= params.B)\n",
    "\n",
    "    # Cap battery above zero\n",
    "    for j in range(1, N):\n",
    "        model.constraints.add(sum(model.y[i] - model.z[i] for i in range(j)) + I >= 0.0)\n",
    "\n",
    "    # Cap battery at capacity\n",
    "    for j in range(1, N):\n",
    "        model.constraints.add(sum(model.y[i] - model.z[i] for i in range(j)) + I <= params.M)\n",
    "\n",
    "    # Ensure battery is at initial capacity at end of week\n",
    "    model.constraints.add(sum(model.y[i] - model.z[i] for i in range(N)) == 0.0)\n",
    "\n",
    "    solution = solver.solve(model)\n",
    "    xs = np.array(list(model.x[i].value for i in range(N)))\n",
    "    ys = np.array(list(model.y[i].value for i in range(N)))\n",
    "    zs = np.array(list(model.z[i].value for i in range(N)))\n",
    "\n",
    "    fitness = sum(costs * (xs + ys))\n",
    "\n",
    "    return Result(xs, ys, zs, fitness)"
   ]
  },
  {
   "cell_type": "code",
   "execution_count": null,
   "metadata": {},
   "outputs": [],
   "source": [
    "def optimize_res(res, params, solver):\n",
    "    assert(len(res) == N)\n",
    "\n",
    "    model = pyo.ConcreteModel()\n",
    "    model.x = pyo.Var(range(N), domain=pyo.NonNegativeReals)\n",
    "    model.y = pyo.Var(range(N), domain=pyo.NonNegativeReals)\n",
    "    model.z = pyo.Var(range(N), domain=pyo.NonNegativeReals)\n",
    "    model.u = pyo.Var(range(N), domain=pyo.NonNegativeReals)\n",
    "\n",
    "    model.objective = pyo.Objective(\n",
    "        expr=sum(model.u[i] for i in range(N)),\n",
    "        sense=pyo.maximize\n",
    "    )\n",
    "\n",
    "    model.constraints = pyo.ConstraintList()\n",
    "\n",
    "    # Cover energy demand\n",
    "    for i in range(N):\n",
    "        model.constraints.add(model.x[i] + model.z[i] == params.D)\n",
    "\n",
    "    # Cap charge and discharge rates\n",
    "    for i in range(N):\n",
    "        model.constraints.add(model.y[i] <= params.A)\n",
    "        model.constraints.add(model.z[i] <= params.B)\n",
    "\n",
    "    # Cap battery above zero\n",
    "    for j in range(1, N):\n",
    "        model.constraints.add(sum(model.y[i] - model.z[i] for i in range(j)) + I >= 0.0)\n",
    "\n",
    "    # Cap battery at capacity\n",
    "    for j in range(1, N):\n",
    "        model.constraints.add(sum(model.y[i] - model.z[i] for i in range(j)) + I <= params.M)\n",
    "\n",
    "    # Ensure battery is at initial capacity at end of week\n",
    "    model.constraints.add(sum(model.y[i] - model.z[i] for i in range(N)) == 0.0)\n",
    "    \n",
    "    # Cap u_i below x_i and r_i\n",
    "    for i in range(N):\n",
    "        model.constraints.add(model.u[i] <= res[i])\n",
    "        model.constraints.add(model.u[i]  <= model.x[i] + model.y[i])\n",
    "\n",
    "    solution = solver.solve(model)\n",
    "    xs = np.array(list(model.x[i].value for i in range(N)))\n",
    "    ys = np.array(list(model.y[i].value for i in range(N)))\n",
    "    zs = np.array(list(model.z[i].value for i in range(N)))\n",
    "    us = np.array(list(model.u[i].value for i in range(N)))\n",
    "\n",
    "    fitness = sum(us)\n",
    "\n",
    "    return Result(xs, ys, zs, fitness)"
   ]
  },
  {
   "cell_type": "code",
   "execution_count": null,
   "metadata": {},
   "outputs": [],
   "source": [
    "def optimize_res_and_cost(res, costs, params, solver):\n",
    "    assert(len(costs) == N)\n",
    "    assert(len(res) == N)\n",
    "    \n",
    "    model = pyo.ConcreteModel()\n",
    "    model.x = pyo.Var(range(N), domain=pyo.NonNegativeReals)\n",
    "    model.y = pyo.Var(range(N), domain=pyo.NonNegativeReals)\n",
    "    model.z = pyo.Var(range(N), domain=pyo.NonNegativeReals)\n",
    "    model.u = pyo.Var(range(N), domain=pyo.NonNegativeReals)\n",
    "\n",
    "    model.objective = pyo.Objective(\n",
    "        expr=sum(costs[i] * model.u[i] for i in range(N)),\n",
    "        sense=pyo.minimize\n",
    "    )\n",
    "\n",
    "    model.constraints = pyo.ConstraintList()\n",
    "\n",
    "    # Cover energy demand\n",
    "    for i in range(N):\n",
    "        model.constraints.add(model.x[i] + model.z[i] == params.D)\n",
    "\n",
    "    # Cap charge and discharge rates\n",
    "    for i in range(N):\n",
    "        model.constraints.add(model.y[i] <= params.A)\n",
    "        model.constraints.add(model.z[i] <= params.B)\n",
    "\n",
    "    # Cap battery above zero\n",
    "    for j in range(1, N):\n",
    "        model.constraints.add(sum(model.y[i] - model.z[i] for i in range(j)) + I >= 0.0)\n",
    "\n",
    "    # Cap battery at capacity\n",
    "    for j in range(1, N):\n",
    "        model.constraints.add(sum(model.y[i] - model.z[i] for i in range(j)) + I <= params.M)\n",
    "\n",
    "    # Ensure battery is at initial capacity at end of week\n",
    "    model.constraints.add(sum(model.y[i] - model.z[i] for i in range(N)) == 0.0)\n",
    "    \n",
    "    # Set u[i] >= x[i] + y[i] - res[i]\n",
    "    for i in range(N):\n",
    "        model.constraints.add(model.u[i] >= model.x[i] + model.y[i] - res[i])\n",
    "\n",
    "    solution = solver.solve(model)\n",
    "    xs = np.array(list(model.x[i].value for i in range(N)))\n",
    "    ys = np.array(list(model.y[i].value for i in range(N)))\n",
    "    zs = np.array(list(model.z[i].value for i in range(N)))\n",
    "    us = np.array(list(model.u[i].value for i in range(N)))\n",
    "\n",
    "    fitness = sum(costs * us)\n",
    "\n",
    "    return Result(xs, ys, zs, fitness)"
   ]
  },
  {
   "cell_type": "code",
   "execution_count": null,
   "metadata": {
    "gather": {
     "logged": 1655899526276
    },
    "jupyter": {
     "outputs_hidden": false,
     "source_hidden": false
    },
    "nteract": {
     "transient": {
      "deleting": false
     }
    }
   },
   "outputs": [],
   "source": [
    "def optimize_series_cost(data, costs_col, params, solver):\n",
    "    ndays = len(data) // 24\n",
    "    output_parts = []\n",
    "    for day in range(ndays):\n",
    "        subdata = data.iloc[day*24: (day+1)*24]\n",
    "        costs = subdata[costs_col].values\n",
    "        result = optimize_cost(costs, params, solver)\n",
    "        output_parts.append(\n",
    "            pd.DataFrame(\n",
    "                dict(time=subdata.time, cons=result.cons, charge=result.charge, discharge=result.discharge)\n",
    "            )\n",
    "        )\n",
    "    \n",
    "    output = pd.concat(output_parts, axis=0)\n",
    "    return output"
   ]
  },
  {
   "cell_type": "code",
   "execution_count": null,
   "metadata": {},
   "outputs": [],
   "source": [
    "def optimize_series_res(data, res_col, params, solver):\n",
    "    ndays = len(data) // 24\n",
    "    output_parts = []\n",
    "    \n",
    "    resnorm = data[res_col] / data[res_col].sum() * len(data) * D\n",
    "    data = data.assign(**{res_col: resnorm})\n",
    "    \n",
    "    for day in range(ndays):\n",
    "        subdata = data.iloc[day*24: (day+1)*24]\n",
    "        res = subdata[res_col].values\n",
    "        result = optimize_res(res, params, solver)\n",
    "        output_parts.append(\n",
    "            pd.DataFrame(\n",
    "                dict(time=subdata.time, cons=result.cons, charge=result.charge, discharge=result.discharge)\n",
    "            )\n",
    "        )\n",
    "    \n",
    "    output = pd.concat(output_parts, axis=0)\n",
    "    return output"
   ]
  },
  {
   "cell_type": "code",
   "execution_count": null,
   "metadata": {},
   "outputs": [],
   "source": [
    "def optimize_series_res_and_cost(data, res_col, cost_col, params, solver):\n",
    "    ndays = len(data) // 24\n",
    "    output_parts = []\n",
    "    \n",
    "    resnorm = data[res_col] / data[res_col].sum() * len(data) * D\n",
    "    data = data.assign(**{res_col: resnorm})\n",
    "    \n",
    "    for day in range(ndays):\n",
    "        subdata = data.iloc[day*24: (day+1)*24]\n",
    "        res = subdata[res_col].values\n",
    "        costs = subdata[cost_col].values\n",
    "\n",
    "        result = optimize_res_and_cost(res, costs, params, solver)\n",
    "        output_parts.append(\n",
    "            pd.DataFrame(\n",
    "                dict(time=subdata.time, cons=result.cons, charge=result.charge, discharge=result.discharge)\n",
    "            )\n",
    "        )\n",
    "    \n",
    "    output = pd.concat(output_parts, axis=0)\n",
    "    return output"
   ]
  },
  {
   "cell_type": "code",
   "execution_count": null,
   "metadata": {
    "gather": {
     "logged": 1655899526649
    }
   },
   "outputs": [],
   "source": [
    "def read_portfolio(portfolio) -> pd.DataFrame:\n",
    "    data = []\n",
    "    for site in portfolio[\"sites\"]:\n",
    "        path = f\"data/sites/{site}.csv\"\n",
    "        df = (\n",
    "            pd.read_csv(\n",
    "                path,\n",
    "                comment=\"#\",\n",
    "                usecols=[\"time\", \"electricity\"]\n",
    "            )\n",
    "            .assign(time=lambda df: pd.to_datetime(df.time, format=\"%Y-%m-%d %H:%M\", utc=True).dt.tz_convert(\"Europe/Berlin\"))\n",
    "            .query(\"time >= @start_time & time < @end_time\")\n",
    "            .set_index(\"time\").resample(\"H\")\n",
    "            .mean().ffill()\n",
    "        )\n",
    "        \n",
    "        data.append(df)\n",
    "    \n",
    "    output = (\n",
    "        reduce(lambda a, b: a + b, data)\n",
    "        .rename({\"electricity\": \"res\"}, axis=1)\n",
    "        .reset_index()\n",
    "    )\n",
    "    return output"
   ]
  },
  {
   "cell_type": "markdown",
   "metadata": {},
   "source": [
    "## Optimize for CO2 and spot price for each price area"
   ]
  },
  {
   "cell_type": "code",
   "execution_count": null,
   "metadata": {},
   "outputs": [],
   "source": [
    "solver = pyo.SolverFactory(\"glpk\")"
   ]
  },
  {
   "cell_type": "code",
   "execution_count": null,
   "metadata": {
    "gather": {
     "logged": 1655899785540
    },
    "nteract": {
     "transient": {
      "deleting": false
     }
    },
    "tags": []
   },
   "outputs": [],
   "source": [
    "for cost_type in COST_TYPES:\n",
    "    for area in AREAS:\n",
    "        data = (\n",
    "            pd.read_csv(f\"data/{cost_type}/{area}.csv\")\n",
    "            .assign(time=lambda df: pd.to_datetime(df.time, utc=True).dt.tz_convert(\"Europe/Copenhagen\"))\n",
    "            .assign(**{cost_type: lambda df: df[cost_type].clip(0)})\n",
    "            .query(\"time >= @start_time & time < @end_time\")\n",
    "        )\n",
    "\n",
    "        for M in CAPACITIES:\n",
    "            I, A, B = M * 0.5, M * 0.5, M * 0.5\n",
    "            params = Parameters(D=D, M=M, I=I, A=A, B=B) \n",
    "\n",
    "            results = (\n",
    "                optimize_series_cost(data, cost_type, params, solver)\n",
    "                .assign(total_energy=lambda df: df.cons + df.charge)\n",
    "            )\n",
    "            results.to_csv(f\"data/schedules/{cost_type}_{area}_M={M}.csv\", index=False)"
   ]
  },
  {
   "cell_type": "markdown",
   "metadata": {},
   "source": [
    "## Optimize for RES portfolio utilization"
   ]
  },
  {
   "cell_type": "code",
   "execution_count": null,
   "metadata": {
    "gather": {
     "logged": 1655899801568
    }
   },
   "outputs": [],
   "source": [
    "with open(\"data/portfolios.yml\", \"r\") as fp:\n",
    "    portfolios = yaml.load(fp, Loader=yaml.SafeLoader)"
   ]
  },
  {
   "cell_type": "code",
   "execution_count": null,
   "metadata": {},
   "outputs": [],
   "source": [
    "for portfolio in portfolios:\n",
    "    data = read_portfolio(portfolio)\n",
    "    \n",
    "    for M in CAPACITIES:\n",
    "        I, A, B = M * 0.5, M * 0.5, M * 0.5\n",
    "        params = Parameters(D=D, M=M, I=I, A=A, B=B)\n",
    "        \n",
    "        results = (\n",
    "            optimize_series_res(data, \"res\", params, solver)\n",
    "            .assign(total_energy=lambda df: df.cons + df.charge)\n",
    "        )\n",
    "        results.to_csv(f\"data/schedules/res_{portfolio['name']}_M={M}.csv\", index=False)"
   ]
  },
  {
   "cell_type": "markdown",
   "metadata": {},
   "source": [
    "## Optimize for RES portfolio and cost"
   ]
  },
  {
   "cell_type": "code",
   "execution_count": null,
   "metadata": {},
   "outputs": [],
   "source": [
    "for portfolio in portfolios:\n",
    "    res_data = read_portfolio(portfolio)\n",
    "    \n",
    "    for cost_type in COST_TYPES:\n",
    "        cost_data = (\n",
    "            pd.read_csv(f\"data/{cost_type}/{portfolio['area']}.csv\")\n",
    "            .assign(time=lambda df: pd.to_datetime(df.time, utc=True).dt.tz_convert(\"Europe/Copenhagen\"))\n",
    "            .assign(**{cost_type: lambda df: df[cost_type].clip(0)})\n",
    "            .query(\"time >= @start_time & time < @end_time\")\n",
    "        )\n",
    "        \n",
    "        data = pd.merge(res_data[[\"time\", \"res\"]], cost_data[[\"time\", cost_type]], on=\"time\", how=\"inner\")\n",
    "\n",
    "        for M in CAPACITIES:\n",
    "            I, A, B = M * 0.5, M * 0.5, M * 0.5\n",
    "            params = Parameters(D=D, M=M, I=I, A=A, B=B)\n",
    "            \n",
    "            results = (\n",
    "                optimize_series_res_and_cost(data, \"res\", cost_type, params, solver)\n",
    "                .assign(total_energy=lambda df: df.cons + df.charge)\n",
    "            )\n",
    "            results.to_csv(f\"data/schedules/res_and_{cost_type}_{portfolio['name']}_M={M}.csv\", index=False)"
   ]
  },
  {
   "cell_type": "markdown",
   "metadata": {},
   "source": [
    "# Aggregate results"
   ]
  },
  {
   "cell_type": "code",
   "execution_count": null,
   "metadata": {},
   "outputs": [],
   "source": [
    "rows = []\n",
    "\n",
    "for portfolio in portfolios:\n",
    "    res = (\n",
    "        read_portfolio(portfolio)\n",
    "        .assign(time=lambda df: pd.to_datetime(df.time, utc=True).dt.tz_convert(\"Europe/Copenhagen\"))\n",
    "    )\n",
    "    \n",
    "    cost_co2 = (\n",
    "        pd.read_csv(f\"data/co2/{portfolio['area']}.csv\")\n",
    "        .assign(\n",
    "            time=lambda df: pd.to_datetime(df.time, utc=True).dt.tz_convert(\"Europe/Copenhagen\"),\n",
    "            co2=lambda df: df.co2.clip(0)\n",
    "        )\n",
    "    )\n",
    "\n",
    "    cost_price = (\n",
    "        pd.read_csv(f\"data/price/{portfolio['area']}.csv\")\n",
    "        .assign(\n",
    "            time=lambda df: pd.to_datetime(df.time, utc=True).dt.tz_convert(\"Europe/Copenhagen\"),\n",
    "            price=lambda df: df.price.clip(0)\n",
    "        )\n",
    "    )\n",
    "\n",
    "    for M in CAPACITIES:\n",
    "        for cost_type in [\"co2\", \"price\", \"res\", \"res_and_co2\", \"res_and_price\"]:\n",
    "            if cost_type in [\"co2\", \"price\"]:\n",
    "                schedule_path = f\"data/schedules/{cost_type}_{portfolio['area']}_M={M}.csv\"\n",
    "            else:\n",
    "                schedule_path = f\"data/schedules/{cost_type}_{portfolio['name']}_M={M}.csv\"\n",
    "            \n",
    "            schedule = (\n",
    "                pd.read_csv(schedule_path)\n",
    "                .assign(time=lambda df: pd.to_datetime(df.time, utc=True).dt.tz_convert(\"Europe/Copenhagen\"))\n",
    "            )\n",
    "\n",
    "            data = (\n",
    "                schedule[[\"time\", \"total_energy\"]].rename({\"total_energy\": \"consumed_energy\"}, axis=1)\n",
    "                .merge(cost_co2[[\"time\", \"co2\"]].rename({\"co2\": \"co2_per_kwh\"}, axis=1), on=\"time\", how=\"inner\")\n",
    "                .merge(cost_price[[\"time\", \"price\"]].rename({\"price\": \"eur_per_kwh\"}, axis=1), on=\"time\", how=\"inner\")\n",
    "                .merge(res.rename({\"res\": \"portfolio_energy\"}, axis=1), on=\"time\", how=\"inner\")\n",
    "            )\n",
    "\n",
    "            data = data.assign(\n",
    "                consumed_energy=lambda df: df.consumed_energy / df.consumed_energy.sum() * 1000,\n",
    "                portfolio_energy=lambda df: df.portfolio_energy / df.portfolio_energy.sum() * 1000,\n",
    "                co2=lambda df: df.consumed_energy * df.co2_per_kwh,\n",
    "                eur=lambda df: df.consumed_energy * df.eur_per_kwh,\n",
    "                portfolio_coverage=lambda df: np.minimum(df.consumed_energy, df.portfolio_energy),   \n",
    "            )\n",
    "\n",
    "            data.to_csv(f\"output/battery/{portfolio['name']}_{cost_type}_M={M}.csv\", index=False)\n",
    "            \n",
    "            flat = data.consumed_energy.mean()\n",
    "            \n",
    "            baseline_co2 = data.co2_per_kwh.sum() * flat\n",
    "            optimized_co2 = data.co2.sum()\n",
    "            improvement_co2 = (baseline_co2 - optimized_co2) / baseline_co2\n",
    "\n",
    "            baseline_eur = data.eur_per_kwh.sum() * flat\n",
    "            optimized_eur = data.eur.sum()\n",
    "            improvement_eur = (baseline_eur - optimized_eur) / baseline_eur\n",
    "\n",
    "            baseline_res = np.minimum(flat, data.portfolio_energy).sum() / 1000\n",
    "            optimized_res = data.portfolio_coverage.sum() / 1000\n",
    "            improvement_res = optimized_res - baseline_res\n",
    "            \n",
    "            rows.append({\n",
    "                \"Portfolio\": portfolio[\"name\"],\n",
    "                \"Price area\": portfolio[\"area\"],\n",
    "                \"Target\": cost_type,\n",
    "                \"Battery capacity\": M,\n",
    "                \"Baseline CO2 (g/MWh)\": baseline_co2,\n",
    "                \"Optimized CO (g/MWh)\": optimized_co2,\n",
    "                \"Improvement CO2 (%)\": improvement_co2,\n",
    "                \"Baseline price (EUR/MWh)\": baseline_eur,\n",
    "                \"Optimized price (EUR/MWh)\": optimized_eur,\n",
    "                \"Improvement price (%)\": improvement_eur,\n",
    "                \"Baseline RES (%)\": baseline_res,\n",
    "                \"Optimized RES (%)\": optimized_res,\n",
    "                \"Improvement RES (%)\": improvement_res\n",
    "            })"
   ]
  },
  {
   "cell_type": "code",
   "execution_count": null,
   "metadata": {},
   "outputs": [],
   "source": [
    "summary = pd.DataFrame(rows)\n",
    "summary"
   ]
  },
  {
   "cell_type": "code",
   "execution_count": null,
   "metadata": {},
   "outputs": [],
   "source": [
    "summary.query(\"Portfolio == 'DE2' & Target in ['price', 'res_and_price', 'res']\").pivot(index=\"Target\", columns=\"Battery capacity\", values=\"Improvement price (%)\").plot.bar()"
   ]
  },
  {
   "cell_type": "code",
   "execution_count": null,
   "metadata": {},
   "outputs": [],
   "source": [
    "TARGET_NAMES = {\"co2\": \"CO2\", \"price\": \"Price\", \"res\": \"RES\", \"res_and_co2\": \"RES + CO2\", \"res_and_price\": \"RES + price\"}\n",
    "\n",
    "with pd.ExcelWriter(\"output/battery_summary.xlsx\") as writer:\n",
    "    for cost_type in summary.Target.unique():\n",
    "        summary.query(\"Target == @cost_type\").to_excel(writer, index=False, sheet_name=f\"Optimized {TARGET_NAMES[cost_type]}\")"
   ]
  },
  {
   "cell_type": "code",
   "execution_count": null,
   "metadata": {},
   "outputs": [],
   "source": [
    "day = 0\n",
    "ax = (\n",
    "    pd.read_csv(\"output/battery/DE2_res_M=2.0.csv\")\n",
    "    .iloc[day*24:day*24+169]\n",
    "    .assign(\n",
    "        time=lambda df: pd.to_datetime(df.time, utc=True).dt.tz_convert(\"Europe/Copenhagen\"),\n",
    "    )\n",
    "    .plot(x=\"time\", y=[\"consumed_energy\", \"portfolio_energy\"], figsize=(20, 8), drawstyle=\"steps-post\")\n",
    ")"
   ]
  },
  {
   "cell_type": "code",
   "execution_count": null,
   "metadata": {},
   "outputs": [],
   "source": [
    "import matplotlib.ticker as mtick\n",
    "\n",
    "ax = summary.query(\"Target == 'res' & `Battery capacity` > 0\").pivot(index=\"Portfolio\", columns=\"Battery capacity\", values=\"Improvement RES (%)\").plot.bar(figsize=(12, 6))\n",
    "ax.yaxis.set_major_formatter(mtick.PercentFormatter(xmax=1.0))"
   ]
  },
  {
   "cell_type": "code",
   "execution_count": null,
   "metadata": {},
   "outputs": [],
   "source": []
  }
 ],
 "metadata": {
  "kernel_info": {
   "name": "etnt"
  },
  "kernelspec": {
   "display_name": "Energy Track 'n' Trace",
   "language": "python",
   "name": "etnt"
  },
  "language_info": {
   "codemirror_mode": {
    "name": "ipython",
    "version": 3
   },
   "file_extension": ".py",
   "mimetype": "text/x-python",
   "name": "python",
   "nbconvert_exporter": "python",
   "pygments_lexer": "ipython3",
   "version": "3.8.13"
  },
  "microsoft": {
   "host": {
    "AzureML": {
     "notebookHasBeenCompleted": true
    }
   }
  },
  "nteract": {
   "version": "nteract-front-end@1.0.0"
  }
 },
 "nbformat": 4,
 "nbformat_minor": 4
}
