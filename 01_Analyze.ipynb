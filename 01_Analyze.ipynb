{
 "cells": [
  {
   "cell_type": "code",
   "execution_count": null,
   "metadata": {
    "gather": {
     "logged": 1651480601936
    }
   },
   "outputs": [],
   "source": [
    "import pandas as pd\n",
    "import glob\n",
    "from functools import reduce\n",
    "import yaml"
   ]
  },
  {
   "cell_type": "code",
   "execution_count": null,
   "metadata": {
    "gather": {
     "logged": 1651480606961
    },
    "jupyter": {
     "outputs_hidden": false,
     "source_hidden": false
    },
    "nteract": {
     "transient": {
      "deleting": false
     }
    }
   },
   "outputs": [],
   "source": [
    "CONSUMPTION_SIZE = 1000.0  # kWh\n",
    "FLEXIBILITY = 1.0  # from 0.0 to 1.0"
   ]
  },
  {
   "cell_type": "code",
   "execution_count": null,
   "metadata": {
    "gather": {
     "logged": 1651480607824
    },
    "jupyter": {
     "outputs_hidden": false,
     "source_hidden": false
    },
    "nteract": {
     "transient": {
      "deleting": false
     }
    }
   },
   "outputs": [],
   "source": [
    "with open(\"data/portfolios.yml\", \"r\") as fp:\n",
    "    portfolios = yaml.load(fp, Loader=yaml.SafeLoader)\n",
    "portfolios"
   ]
  },
  {
   "cell_type": "code",
   "execution_count": null,
   "metadata": {
    "gather": {
     "logged": 1651480608533
    },
    "jupyter": {
     "outputs_hidden": false,
     "source_hidden": false
    },
    "nteract": {
     "transient": {
      "deleting": false
     }
    }
   },
   "outputs": [],
   "source": [
    "def read_portfolio(portfolio) -> pd.DataFrame:\n",
    "    price = (\n",
    "        pd.read_csv(f\"data/price/{portfolio['area']}.csv\", usecols=[\"time\", \"price\"])\n",
    "        .assign(time=lambda df: pd.to_datetime(df.time, utc=True))\n",
    "        .set_index(\"time\")\n",
    "    )\n",
    "\n",
    "    co2 = (\n",
    "        pd.read_csv(f\"data/co2/{portfolio['area']}.csv\", usecols=[\"time\", \"co2\"])\n",
    "        .assign(time=lambda df: pd.to_datetime(df.time, utc=True))\n",
    "        .filter([\"time\", \"co2\"], axis=1)\n",
    "        .set_index(\"time\")\n",
    "    )\n",
    "\n",
    "    data = []\n",
    "    for site in portfolio[\"sites\"]:\n",
    "        path = f\"data/sites/{site}.csv\"\n",
    "        df = (\n",
    "            pd.read_csv(\n",
    "                path,\n",
    "                comment=\"#\",\n",
    "                usecols=[\"time\", \"electricity\"]\n",
    "            )\n",
    "            .assign(time=lambda df: pd.to_datetime(df.time, format=\"%Y-%m-%d %H:%M\", utc=True).dt.tz_convert(\"Europe/Berlin\"))\n",
    "            .set_index(\"time\").resample(\"H\")\n",
    "            .mean().ffill()\n",
    "        )\n",
    "        \n",
    "        data.append(df)\n",
    "    \n",
    "    output = (\n",
    "        reduce(lambda a, b: a + b, data)\n",
    "        .rename({\"electricity\": \"res\"}, axis=1)\n",
    "        .merge(price, how=\"inner\", left_index=True, right_index=True)\n",
    "        .merge(co2, how=\"inner\", left_index=True, right_index=True)\n",
    "    )\n",
    "    return output\n"
   ]
  },
  {
   "cell_type": "code",
   "execution_count": null,
   "metadata": {
    "gather": {
     "logged": 1651480609175
    },
    "jupyter": {
     "outputs_hidden": false,
     "source_hidden": false
    },
    "nteract": {
     "transient": {
      "deleting": false
     }
    }
   },
   "outputs": [],
   "source": [
    "def compute_summary(results: pd.DataFrame) -> pd.DataFrame:\n",
    "    co2_flat_total = results.co2_flat.sum()\n",
    "    co2_profile_total = results.co2_profile.sum()\n",
    "    co2_savings = co2_flat_total - co2_profile_total\n",
    "    co2_savings_pct = co2_savings / co2_flat_total * 100.0\n",
    "\n",
    "    cost_flat_total = results.cost_flat.sum()\n",
    "    cost_profile_total = results.cost_profile.sum()\n",
    "    cost_savings = cost_flat_total - cost_profile_total\n",
    "    cost_savings_pct = cost_savings / cost_flat_total * 100.0\n",
    "\n",
    "    summary = pd.DataFrame([\n",
    "        dict(label=\"Flat CO2 (g CO2/MWh)\", value=co2_flat_total),\n",
    "        dict(label=\"Tracking CO2 (g CO2/MWh)\", value=co2_profile_total),\n",
    "        dict(label=\"CO2 reduction (g CO2/MWh)\", value=co2_savings),\n",
    "        dict(label=\"CO2 reduction (%)\", value=co2_savings_pct),\n",
    "\n",
    "        dict(label=\"Flat cost (EUR/MWh)\", value=cost_flat_total),\n",
    "        dict(label=\"Cost tracking (EUR/MWh)\", value=cost_profile_total),\n",
    "        dict(label=\"Cost reduction (EUR/KWh)\", value=cost_savings),\n",
    "        dict(label=\"Cost reduction (%)\", value=cost_savings_pct)\n",
    "    ])\n",
    "    return summary"
   ]
  },
  {
   "cell_type": "code",
   "execution_count": null,
   "metadata": {
    "gather": {
     "logged": 1651480614663
    },
    "jupyter": {
     "outputs_hidden": false,
     "source_hidden": false
    },
    "nteract": {
     "transient": {
      "deleting": false
     }
    }
   },
   "outputs": [],
   "source": [
    "for portfolio in portfolios:\n",
    "    data = (\n",
    "        read_portfolio(portfolio)\n",
    "        .dropna()\n",
    "        .assign(\n",
    "            res=lambda df: df.res / df.res.sum() * CONSUMPTION_SIZE,\n",
    "            flat=lambda df: CONSUMPTION_SIZE / len(df),\n",
    "            profile=lambda df: (1.0 - FLEXIBILITY) * df.flat + FLEXIBILITY * df.res\n",
    "        )\n",
    "    )\n",
    "\n",
    "    results = data.assign(\n",
    "        co2_profile=lambda df: df.profile * df.co2,\n",
    "        co2_flat=lambda df: df.flat * df.co2,\n",
    "        cost_profile=lambda df: df.profile * df.price,\n",
    "        cost_flat=lambda df: df.flat * df.price\n",
    "    )\n",
    "    results = results.reset_index().assign(time=lambda df: df.time.dt.tz_localize(None))\n",
    "    summary = compute_summary(results)\n",
    "\n",
    "    with pd.ExcelWriter(f\"output/reports/{portfolio['name']}.xlsx\") as writer:\n",
    "        summary.to_excel(writer, sheet_name=\"Summary\", index=False, header=False)\n",
    "        results.to_excel(writer, sheet_name=\"Data\", index=False)"
   ]
  }
 ],
 "metadata": {
  "interpreter": {
   "hash": "51e807ef1e3c1f544228ddb820ecdb3fbe24be5eb820cdf79173d8f0d6ec49ec"
  },
  "kernel_info": {
   "name": "python38-azureml"
  },
  "kernelspec": {
   "display_name": "Python 3.8 - AzureML",
   "language": "python",
   "name": "python38-azureml"
  },
  "language_info": {
   "codemirror_mode": {
    "name": "ipython",
    "version": 3
   },
   "file_extension": ".py",
   "mimetype": "text/x-python",
   "name": "python",
   "nbconvert_exporter": "python",
   "pygments_lexer": "ipython3",
   "version": "3.8.1"
  },
  "microsoft": {
   "host": {
    "AzureML": {
     "notebookHasBeenCompleted": true
    }
   }
  },
  "nteract": {
   "version": "nteract-front-end@1.0.0"
  }
 },
 "nbformat": 4,
 "nbformat_minor": 2
}
